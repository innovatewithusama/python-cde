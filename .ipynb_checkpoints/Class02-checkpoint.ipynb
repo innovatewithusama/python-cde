{
 "cells": [
  {
   "cell_type": "code",
   "execution_count": 8,
   "id": "016343bf-4b76-4217-a644-b5d58eb2f336",
   "metadata": {},
   "outputs": [
    {
     "name": "stdin",
     "output_type": "stream",
     "text": [
      "enter your age:  35\n",
      "what is your gender (M/F):  f\n"
     ]
    },
    {
     "name": "stdout",
     "output_type": "stream",
     "text": [
      "ERROR\n"
     ]
    }
   ],
   "source": [
    "age = int(input(\"enter your age: \"))\n",
    "gender = input(\"what is your gender (M/F): \")\n",
    "#marital_status = input(\"enter your marital status (Y/N): \")\n",
    "\n",
    "if gender == \"F\":\n",
    " print (\"Will work only in Urban areas\")\n",
    "elif (gender == \"M\") and (age>= 20 and age <40):\n",
    " print(\"can work anywhere\")\n",
    "elif (gender == \"M\") and (age>= 40 and age <60):\n",
    " print(\"can work only in urban areas\")\n",
    "else:\n",
    " print(\"ERROR\")"
   ]
  },
  {
   "cell_type": "markdown",
   "id": "e7337488-5e09-4e78-b392-7644e90d1459",
   "metadata": {},
   "source": [
    "### Comparison Operators"
   ]
  },
  {
   "cell_type": "code",
   "execution_count": 4,
   "id": "156b9ac1-abed-4175-814d-b56ab8934af8",
   "metadata": {},
   "outputs": [
    {
     "data": {
      "text/plain": [
       "True"
      ]
     },
     "execution_count": 4,
     "metadata": {},
     "output_type": "execute_result"
    }
   ],
   "source": [
    "45 != 65"
   ]
  },
  {
   "cell_type": "markdown",
   "id": "424d4864-ff47-4dcc-b159-392e555e3476",
   "metadata": {},
   "source": []
  },
  {
   "cell_type": "markdown",
   "id": "f8ff8c75-8b9e-439f-8773-cb0c80ac6eda",
   "metadata": {},
   "source": [
    "### Lists"
   ]
  },
  {
   "cell_type": "code",
   "execution_count": 9,
   "id": "364be489-9efc-4d6d-925f-f658ee3465fa",
   "metadata": {},
   "outputs": [],
   "source": [
    "#eg\n",
    "country1 = \"Pakistan\"\n",
    "country2 = \"India\"\n",
    "country3 = \"China\"\n",
    "#..."
   ]
  },
  {
   "cell_type": "code",
   "execution_count": 12,
   "id": "9f5386f3-6943-4a7f-8dcd-36fb63d35067",
   "metadata": {},
   "outputs": [],
   "source": [
    "#actual method for use.\n",
    "countries = [\n",
    "    \"Pakistan\",\n",
    "    \"India\",\n",
    "    \"China\"\n",
    "]"
   ]
  },
  {
   "cell_type": "code",
   "execution_count": 13,
   "id": "93b70666-cd53-4cc1-9861-b30f86ee24b6",
   "metadata": {},
   "outputs": [
    {
     "data": {
      "text/plain": [
       "['Pakistan', 'India', 'China']"
      ]
     },
     "execution_count": 13,
     "metadata": {},
     "output_type": "execute_result"
    }
   ],
   "source": [
    "countries"
   ]
  },
  {
   "cell_type": "code",
   "execution_count": 14,
   "id": "0e3fdc55-7a1f-4bc7-88d3-1d938b8d6f3d",
   "metadata": {},
   "outputs": [],
   "source": [
    "countries.append(\"Afghanistan\")"
   ]
  },
  {
   "cell_type": "code",
   "execution_count": 15,
   "id": "2e5d4f38-843c-447c-a5bd-7023737ca006",
   "metadata": {},
   "outputs": [
    {
     "data": {
      "text/plain": [
       "['Pakistan', 'India', 'China', 'Afghanistan']"
      ]
     },
     "execution_count": 15,
     "metadata": {},
     "output_type": "execute_result"
    }
   ],
   "source": [
    "countries"
   ]
  },
  {
   "cell_type": "code",
   "execution_count": 18,
   "id": "580b892b-e4ca-4682-a1cd-a3336acc8e36",
   "metadata": {},
   "outputs": [],
   "source": [
    "countries.append(\"Canada\")"
   ]
  },
  {
   "cell_type": "code",
   "execution_count": 19,
   "id": "81625f66-470b-4218-a185-dec91de5b9f6",
   "metadata": {},
   "outputs": [
    {
     "data": {
      "text/plain": [
       "['Pakistan', 'India', 'China', 'Afghanistan', 'Canada', 'Canada', 'Canada']"
      ]
     },
     "execution_count": 19,
     "metadata": {},
     "output_type": "execute_result"
    }
   ],
   "source": [
    "countries"
   ]
  },
  {
   "cell_type": "code",
   "execution_count": 20,
   "id": "4933a3e5-4ae7-4cae-938a-45d6eba59906",
   "metadata": {},
   "outputs": [
    {
     "data": {
      "text/plain": [
       "['Pakistan', 'India', 'China', 'Afghanistan', 'Canada', 'Canada', 'Canada']"
      ]
     },
     "execution_count": 20,
     "metadata": {},
     "output_type": "execute_result"
    }
   ],
   "source": [
    "countries"
   ]
  },
  {
   "cell_type": "code",
   "execution_count": 21,
   "id": "486f2b8f-3f60-4380-9c95-e43ef67dd144",
   "metadata": {},
   "outputs": [],
   "source": [
    "countries.remove(\"Canada\")"
   ]
  },
  {
   "cell_type": "code",
   "execution_count": 22,
   "id": "7807adf5-7761-45c0-a1bc-b9a9ebb1d3a6",
   "metadata": {},
   "outputs": [
    {
     "data": {
      "text/plain": [
       "['Pakistan', 'India', 'China', 'Afghanistan', 'Canada', 'Canada']"
      ]
     },
     "execution_count": 22,
     "metadata": {},
     "output_type": "execute_result"
    }
   ],
   "source": [
    "countries"
   ]
  },
  {
   "cell_type": "code",
   "execution_count": 23,
   "id": "42f9263d-6355-48ad-ac61-664e336b2f01",
   "metadata": {},
   "outputs": [],
   "source": [
    "countries.remove(\"Canada\")"
   ]
  },
  {
   "cell_type": "code",
   "execution_count": 24,
   "id": "e0a2869c-3a96-47a5-9e2d-214bcb39e81a",
   "metadata": {},
   "outputs": [
    {
     "data": {
      "text/plain": [
       "['Pakistan', 'India', 'China', 'Afghanistan', 'Canada']"
      ]
     },
     "execution_count": 24,
     "metadata": {},
     "output_type": "execute_result"
    }
   ],
   "source": [
    "countries"
   ]
  },
  {
   "cell_type": "code",
   "execution_count": 25,
   "id": "ab81baf3-78ba-451f-859d-0c7f12017241",
   "metadata": {},
   "outputs": [],
   "source": [
    "countries.insert(1, \"Canada\")"
   ]
  },
  {
   "cell_type": "code",
   "execution_count": 26,
   "id": "27f6b096-8108-4e27-904a-78a1d575d2f6",
   "metadata": {},
   "outputs": [
    {
     "data": {
      "text/plain": [
       "['Pakistan', 'Canada', 'India', 'China', 'Afghanistan', 'Canada']"
      ]
     },
     "execution_count": 26,
     "metadata": {},
     "output_type": "execute_result"
    }
   ],
   "source": [
    "countries"
   ]
  },
  {
   "cell_type": "code",
   "execution_count": 27,
   "id": "21c8aed5-ae1a-4897-a839-f961fd1b6f45",
   "metadata": {},
   "outputs": [],
   "source": [
    "countries.remove(\"Canada\")"
   ]
  },
  {
   "cell_type": "code",
   "execution_count": 28,
   "id": "c463ff62-5b45-43e3-b1ff-b6320498a2d6",
   "metadata": {},
   "outputs": [
    {
     "data": {
      "text/plain": [
       "['Pakistan', 'India', 'China', 'Afghanistan', 'Canada']"
      ]
     },
     "execution_count": 28,
     "metadata": {},
     "output_type": "execute_result"
    }
   ],
   "source": [
    "countries"
   ]
  },
  {
   "cell_type": "code",
   "execution_count": 29,
   "id": "e6520637-300a-44f3-ab35-43b2fda7ef75",
   "metadata": {},
   "outputs": [],
   "source": [
    "countries.remove(\"Canada\")"
   ]
  },
  {
   "cell_type": "code",
   "execution_count": 30,
   "id": "07555aa5-ce15-41c6-be30-17f38f57bcb2",
   "metadata": {},
   "outputs": [],
   "source": [
    "countries.insert(1, \"Canada\")"
   ]
  },
  {
   "cell_type": "code",
   "execution_count": 31,
   "id": "2b03cb8b-6630-44cf-8cc9-057958574c10",
   "metadata": {},
   "outputs": [
    {
     "data": {
      "text/plain": [
       "['Pakistan', 'Canada', 'India', 'China', 'Afghanistan']"
      ]
     },
     "execution_count": 31,
     "metadata": {},
     "output_type": "execute_result"
    }
   ],
   "source": [
    "countries"
   ]
  },
  {
   "cell_type": "code",
   "execution_count": null,
   "id": "c183f25d-fb3e-41bc-91cd-2edc5461f456",
   "metadata": {},
   "outputs": [],
   "source": []
  }
 ],
 "metadata": {
  "kernelspec": {
   "display_name": "Python 3 (ipykernel)",
   "language": "python",
   "name": "python3"
  },
  "language_info": {
   "codemirror_mode": {
    "name": "ipython",
    "version": 3
   },
   "file_extension": ".py",
   "mimetype": "text/x-python",
   "name": "python",
   "nbconvert_exporter": "python",
   "pygments_lexer": "ipython3",
   "version": "3.12.7"
  }
 },
 "nbformat": 4,
 "nbformat_minor": 5
}
