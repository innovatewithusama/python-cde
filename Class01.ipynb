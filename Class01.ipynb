{
 "cells": [
  {
   "cell_type": "code",
   "execution_count": 3,
   "id": "08a3ef6c-ca69-4295-b3ad-17c4f3366178",
   "metadata": {},
   "outputs": [
    {
     "name": "stdout",
     "output_type": "stream",
     "text": [
      "Mubashir Harami\n"
     ]
    }
   ],
   "source": [
    "print (\"Mubashir Harami\")"
   ]
  },
  {
   "cell_type": "code",
   "execution_count": 5,
   "id": "f8f2ba7f-8050-40a4-bbc3-74fb98edb266",
   "metadata": {},
   "outputs": [
    {
     "name": "stdout",
     "output_type": "stream",
     "text": [
      "Mubashir Saraiki\n"
     ]
    }
   ],
   "source": [
    "print (\"Mubashir Saraiki\")"
   ]
  },
  {
   "cell_type": "code",
   "execution_count": 4,
   "id": "a40197bc-ae55-4938-9734-b07bf3bfc45e",
   "metadata": {},
   "outputs": [
    {
     "name": "stdout",
     "output_type": "stream",
     "text": [
      "Hello world\n"
     ]
    }
   ],
   "source": [
    "print(\"Hello world\")"
   ]
  },
  {
   "cell_type": "code",
   "execution_count": 5,
   "id": "70944afb-c098-4afe-8f7c-73f27ae72db2",
   "metadata": {},
   "outputs": [
    {
     "name": "stdout",
     "output_type": "stream",
     "text": [
      "Cloud Data Engineer\n"
     ]
    }
   ],
   "source": [
    "print(\"Cloud Data Engineer\")"
   ]
  },
  {
   "cell_type": "markdown",
   "id": "c75bab57-f8fd-47b8-b203-5348a31f382e",
   "metadata": {},
   "source": [
    "#### Shortcut keys for jupyter Notebook\n",
    "- this is about last class\n",
    "- Shift + Enter ==> Next cell + execute\n",
    "- Esc + A ==> create cell above\n",
    "- Esc + B ==> Create cell below\n",
    "- Esc + M ==> convert into Mark Down\n",
    "- \"#\" is used for ==> Heading in Markdown menu\n",
    "- Esc + DD ==> delete the current cell\n",
    "\n",
    "##### Ctrl + Shift + H ==> get all the shortcut command of jupyter"
   ]
  },
  {
   "cell_type": "raw",
   "id": "1599651e-89ab-4aa0-a132-70528e7a9a09",
   "metadata": {},
   "source": [
    "print(\"Esc + R convert cell to RAW - Plain text and Esc + Y will convert cell back to code\")"
   ]
  },
  {
   "cell_type": "code",
   "execution_count": 2,
   "id": "1cb4d2a8-9d56-431e-9661-127e5604aeec",
   "metadata": {},
   "outputs": [
    {
     "name": "stdout",
     "output_type": "stream",
     "text": [
      "Esc + R convert cell to RAW - Plain text and Esc + Y will convert cell back to code\n"
     ]
    }
   ],
   "source": [
    "print(\"Esc + R convert cell to RAW - Plain text and Esc + Y will convert cell back to code\")"
   ]
  },
  {
   "cell_type": "code",
   "execution_count": 3,
   "id": "49d5a434",
   "metadata": {},
   "outputs": [
    {
     "name": "stdout",
     "output_type": "stream",
     "text": [
      "This is my VS code python\n"
     ]
    }
   ],
   "source": [
    "print(\"This is my VS code python\")"
   ]
  },
  {
   "cell_type": "code",
   "execution_count": 4,
   "id": "80c30e4d",
   "metadata": {},
   "outputs": [
    {
     "name": "stdout",
     "output_type": "stream",
     "text": [
      "This is raw\n"
     ]
    }
   ],
   "source": [
    "print(\"This is raw\")"
   ]
  },
  {
   "cell_type": "markdown",
   "id": "511c0cd7-125a-4d78-b793-3659b7b6d01d",
   "metadata": {},
   "source": [
    "### VARIABLES\n",
    "-"
   ]
  },
  {
   "cell_type": "code",
   "execution_count": 18,
   "id": "5bbc731e",
   "metadata": {},
   "outputs": [],
   "source": [
    "name = \"Muhammad Usama\" # declared a first variable in string\n",
    "age = 20 #integer type variable declared\n",
    "weight = 60.5 #floating variable declared\n",
    "is_present = True #Boolean type"
   ]
  },
  {
   "cell_type": "code",
   "execution_count": 20,
   "id": "791b9040-c7cb-49dd-a30b-ca12fc7297b7",
   "metadata": {},
   "outputs": [
    {
     "name": "stdout",
     "output_type": "stream",
     "text": [
      "Muhammad Usama\n",
      "<class 'str'>\n",
      "---------------\n",
      "20\n",
      "<class 'int'>\n",
      "---------------\n",
      "60.5\n",
      "<class 'float'>\n",
      "--------------\n",
      "True\n"
     ]
    },
    {
     "data": {
      "text/plain": [
       "bool"
      ]
     },
     "execution_count": 20,
     "metadata": {},
     "output_type": "execute_result"
    }
   ],
   "source": [
    "print(name)\n",
    "print(type(name))\n",
    "print(\"---------------\")\n",
    "print(age)\n",
    "print(type(age))\n",
    "print(\"---------------\")\n",
    "print(weight)\n",
    "print(type(weight))\n",
    "print(\"--------------\")\n",
    "print(is_present)\n",
    "type(is_present)"
   ]
  },
  {
   "cell_type": "code",
   "execution_count": 21,
   "id": "4754114c-0394-4e05-bebe-9b322203f77a",
   "metadata": {},
   "outputs": [
    {
     "data": {
      "text/plain": [
       "16"
      ]
     },
     "execution_count": 21,
     "metadata": {},
     "output_type": "execute_result"
    }
   ],
   "source": [
    "age -4"
   ]
  },
  {
   "cell_type": "code",
   "execution_count": 22,
   "id": "f1a65470-d764-4918-9704-68bc6bafee57",
   "metadata": {},
   "outputs": [],
   "source": [
    "age +=12"
   ]
  },
  {
   "cell_type": "code",
   "execution_count": 23,
   "id": "7833853d-853c-4596-842c-c876cb4d4230",
   "metadata": {},
   "outputs": [
    {
     "data": {
      "text/plain": [
       "32"
      ]
     },
     "execution_count": 23,
     "metadata": {},
     "output_type": "execute_result"
    }
   ],
   "source": [
    "age"
   ]
  },
  {
   "cell_type": "code",
   "execution_count": 24,
   "id": "ff3a4610-3f21-4bb4-87a4-a493332ecdfe",
   "metadata": {},
   "outputs": [],
   "source": [
    "value_subtract = 10"
   ]
  },
  {
   "cell_type": "code",
   "execution_count": 25,
   "id": "282ee8fa-5b32-467c-8009-bbad4886b31f",
   "metadata": {},
   "outputs": [
    {
     "data": {
      "text/plain": [
       "32"
      ]
     },
     "execution_count": 25,
     "metadata": {},
     "output_type": "execute_result"
    }
   ],
   "source": [
    "age"
   ]
  },
  {
   "cell_type": "code",
   "execution_count": 26,
   "id": "43fbfa47-d34b-4dde-a67a-dafe2ddd8a87",
   "metadata": {},
   "outputs": [],
   "source": [
    "age -= value_subtract"
   ]
  },
  {
   "cell_type": "code",
   "execution_count": 27,
   "id": "36e57957-e8c1-45a7-aa91-b1d360a6df21",
   "metadata": {},
   "outputs": [
    {
     "data": {
      "text/plain": [
       "22"
      ]
     },
     "execution_count": 27,
     "metadata": {},
     "output_type": "execute_result"
    }
   ],
   "source": [
    "age"
   ]
  },
  {
   "cell_type": "code",
   "execution_count": 28,
   "id": "125e7314-1311-43e6-a1b3-af05da176701",
   "metadata": {},
   "outputs": [
    {
     "ename": "TypeError",
     "evalue": "unsupported operand type(s) for +: 'int' and 'str'",
     "output_type": "error",
     "traceback": [
      "\u001b[1;31m---------------------------------------------------------------------------\u001b[0m",
      "\u001b[1;31mTypeError\u001b[0m                                 Traceback (most recent call last)",
      "Cell \u001b[1;32mIn[28], line 1\u001b[0m\n\u001b[1;32m----> 1\u001b[0m \u001b[38;5;241m19\u001b[39m \u001b[38;5;241m+\u001b[39m \u001b[38;5;124m\"\u001b[39m\u001b[38;5;124m1\u001b[39m\u001b[38;5;124m\"\u001b[39m\n",
      "\u001b[1;31mTypeError\u001b[0m: unsupported operand type(s) for +: 'int' and 'str'"
     ]
    }
   ],
   "source": [
    "19 + \"1\""
   ]
  },
  {
   "cell_type": "code",
   "execution_count": 30,
   "id": "f7238462-1a3f-4105-9f68-d6bb2e2db7d8",
   "metadata": {},
   "outputs": [
    {
     "data": {
      "text/plain": [
       "20"
      ]
     },
     "execution_count": 30,
     "metadata": {},
     "output_type": "execute_result"
    }
   ],
   "source": [
    "19 + int(\"1\") #typecasting"
   ]
  },
  {
   "cell_type": "markdown",
   "id": "96801855-ff41-427d-abd9-73ccaa67420f",
   "metadata": {},
   "source": [
    "## Math Expressions"
   ]
  },
  {
   "cell_type": "code",
   "execution_count": 31,
   "id": "2aff560d-d42f-477a-84b4-0f894c570863",
   "metadata": {},
   "outputs": [
    {
     "data": {
      "text/plain": [
       "8"
      ]
     },
     "execution_count": 31,
     "metadata": {},
     "output_type": "execute_result"
    }
   ],
   "source": [
    "3+5"
   ]
  },
  {
   "cell_type": "code",
   "execution_count": 32,
   "id": "7d1a25ce-331b-46ba-868d-b705ee291f13",
   "metadata": {},
   "outputs": [
    {
     "data": {
      "text/plain": [
       "-3"
      ]
     },
     "execution_count": 32,
     "metadata": {},
     "output_type": "execute_result"
    }
   ],
   "source": [
    "5-8"
   ]
  },
  {
   "cell_type": "code",
   "execution_count": 33,
   "id": "ad5da2d4-f6e2-4a62-bd26-5c0938d3f5fb",
   "metadata": {},
   "outputs": [
    {
     "data": {
      "text/plain": [
       "63"
      ]
     },
     "execution_count": 33,
     "metadata": {},
     "output_type": "execute_result"
    }
   ],
   "source": [
    "9*7"
   ]
  },
  {
   "cell_type": "code",
   "execution_count": 34,
   "id": "4790bad2-a601-47f7-8427-0241f90899e7",
   "metadata": {},
   "outputs": [
    {
     "data": {
      "text/plain": [
       "27.0"
      ]
     },
     "execution_count": 34,
     "metadata": {},
     "output_type": "execute_result"
    }
   ],
   "source": [
    "54/2 #in division you will always answer in float"
   ]
  },
  {
   "cell_type": "code",
   "execution_count": 35,
   "id": "5e7bbd51-28f9-4c01-a30a-ea83b504fd4f",
   "metadata": {},
   "outputs": [
    {
     "data": {
      "text/plain": [
       "27"
      ]
     },
     "execution_count": 35,
     "metadata": {},
     "output_type": "execute_result"
    }
   ],
   "source": [
    "int(54/2)"
   ]
  },
  {
   "cell_type": "code",
   "execution_count": 36,
   "id": "8c301021-7c73-4bd3-838c-e78da7e7a0c7",
   "metadata": {},
   "outputs": [
    {
     "data": {
      "text/plain": [
       "0"
      ]
     },
     "execution_count": 36,
     "metadata": {},
     "output_type": "execute_result"
    }
   ],
   "source": [
    "9%3"
   ]
  },
  {
   "cell_type": "code",
   "execution_count": 38,
   "id": "423e2bbb-7752-4dd4-a68d-c6d7deb11172",
   "metadata": {},
   "outputs": [
    {
     "data": {
      "text/plain": [
       "1.8"
      ]
     },
     "execution_count": 38,
     "metadata": {},
     "output_type": "execute_result"
    }
   ],
   "source": [
    "9/5 #remainder operator"
   ]
  },
  {
   "cell_type": "code",
   "execution_count": 39,
   "id": "82323c0d-0f6e-4979-a948-597bd78ddc66",
   "metadata": {},
   "outputs": [
    {
     "data": {
      "text/plain": [
       "8"
      ]
     },
     "execution_count": 39,
     "metadata": {},
     "output_type": "execute_result"
    }
   ],
   "source": [
    "2**3"
   ]
  },
  {
   "cell_type": "markdown",
   "id": "ff16b7df-4312-4ee4-a1a9-157013d30081",
   "metadata": {},
   "source": [
    "### Math Expressions: Eliminating Ambiguity (PEMDAS)"
   ]
  },
  {
   "cell_type": "code",
   "execution_count": 40,
   "id": "20125ae7-00fc-4f23-b531-e3512e356963",
   "metadata": {},
   "outputs": [
    {
     "data": {
      "text/plain": [
       "4"
      ]
     },
     "execution_count": 40,
     "metadata": {},
     "output_type": "execute_result"
    }
   ],
   "source": [
    "1 + 3 * 4 -9"
   ]
  },
  {
   "cell_type": "markdown",
   "id": "1e3f3b70-a0dc-4e2e-9a4f-2329c77a49f8",
   "metadata": {},
   "source": [
    "### Concatination Text Strings"
   ]
  },
  {
   "cell_type": "code",
   "execution_count": 41,
   "id": "dfbb3ef3-92a1-4671-a714-0f1e7855c57f",
   "metadata": {},
   "outputs": [],
   "source": [
    "first_name = \"Muhammad\""
   ]
  },
  {
   "cell_type": "code",
   "execution_count": 42,
   "id": "4b1dc1d1-dd1a-433f-aa26-716b9b39d5df",
   "metadata": {},
   "outputs": [],
   "source": [
    "last_name = \"Usama\""
   ]
  },
  {
   "cell_type": "code",
   "execution_count": 43,
   "id": "c197a32a-7e53-4954-9a7e-1adcb93556cf",
   "metadata": {},
   "outputs": [
    {
     "data": {
      "text/plain": [
       "'MuhammadUsama'"
      ]
     },
     "execution_count": 43,
     "metadata": {},
     "output_type": "execute_result"
    }
   ],
   "source": [
    "first_name + last_name"
   ]
  },
  {
   "cell_type": "code",
   "execution_count": 46,
   "id": "5f34c72d-daec-44de-8052-5ebd02498682",
   "metadata": {},
   "outputs": [
    {
     "data": {
      "text/plain": [
       "'Muhammad Usama'"
      ]
     },
     "execution_count": 46,
     "metadata": {},
     "output_type": "execute_result"
    }
   ],
   "source": [
    "first_name + \" \" + last_name #Method 1"
   ]
  },
  {
   "cell_type": "code",
   "execution_count": 47,
   "id": "0cfb1ee6-362e-4464-96ae-6a2950593fcd",
   "metadata": {},
   "outputs": [
    {
     "data": {
      "text/plain": [
       "'Muhammad Usama'"
      ]
     },
     "execution_count": 47,
     "metadata": {},
     "output_type": "execute_result"
    }
   ],
   "source": [
    "f'{first_name} {last_name}' #Method 2"
   ]
  },
  {
   "cell_type": "code",
   "execution_count": 48,
   "id": "f78c48f4-1d5d-4625-9a85-672cae67dad7",
   "metadata": {},
   "outputs": [
    {
     "data": {
      "text/plain": [
       "'Muhammad Usama'"
      ]
     },
     "execution_count": 48,
     "metadata": {},
     "output_type": "execute_result"
    }
   ],
   "source": [
    "'{0} {1}'.format(first_name, last_name)"
   ]
  },
  {
   "cell_type": "code",
   "execution_count": 4,
   "id": "1fa52880-9fd7-4fc2-baf7-aafde86c2c04",
   "metadata": {},
   "outputs": [
    {
     "name": "stdout",
     "output_type": "stream",
     "text": [
      "enter your age:  45\n",
      "what is your gender (M/F):  M\n"
     ]
    },
    {
     "name": "stdout",
     "output_type": "stream",
     "text": [
      "can work only in urban areas\n"
     ]
    }
   ],
   "source": [
    "age = int(input(\"enter your age: \"))\n",
    "gender = input(\"what is your gender (M/F): \")\n",
    "#marital_status = input(\"enter your marital status (Y/N): \")\n",
    "\n",
    "if gender == \"F\":\n",
    " print (\"Will work only in Urban areas\")\n",
    "elif (gender == \"M\") and (age>= 20 and age <40):\n",
    " print(\"can work anywhere\")\n",
    "elif (gender == \"M\") and (age>= 40 and age <60):\n",
    " print(\"can work only in urban areas\")\n",
    "else:\n",
    " print(\"ERROR\")"
   ]
  },
  {
   "cell_type": "code",
   "execution_count": null,
   "id": "4dc7c651-82d9-49e9-b2a8-94c9695bfc0f",
   "metadata": {},
   "outputs": [],
   "source": []
  }
 ],
 "metadata": {
  "kernelspec": {
   "display_name": "base",
   "language": "python",
   "name": "python3"
  },
  "language_info": {
   "codemirror_mode": {
    "name": "ipython",
    "version": 3
   },
   "file_extension": ".py",
   "mimetype": "text/x-python",
   "name": "python",
   "nbconvert_exporter": "python",
   "pygments_lexer": "ipython3",
   "version": "3.12.7"
  }
 },
 "nbformat": 4,
 "nbformat_minor": 5
}
